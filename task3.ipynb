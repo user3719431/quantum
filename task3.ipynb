{
 "cells": [
  {
   "cell_type": "code",
   "execution_count": null,
   "metadata": {},
   "outputs": [],
   "source": [
    "import numpy as np\n",
    "import math as m\n",
    "from sklearn.metrics import mean_squared_error as mse\n",
    "import cvs\n",
    "import pandas as pd\n",
    "\n",
    "with open('internship_train.csv') as f:\n",
    "    df1 = csv.reader(f)\n",
    "    df1list = list(df1).pop(0)\n",
    "    \n",
    "with open('internship_train.csv') as f:\n",
    "    df2 = csv.reader(f)\n",
    "    df2list = list(df2).pop(0)\n",
    "\n",
    "targer_data = []\n",
    "for i in df2list:\n",
    "    targer_data.append(mse(df1list[i], df2list[i], squared=False))\n",
    "\n",
    "zip(*df2list)\n",
    "df2list.to_csv('ready.csv', sep='\\t', encoding='utf-8')"
   ]
  }
 ],
 "metadata": {
  "kernelspec": {
   "display_name": "Python 3.10.2 64-bit",
   "language": "python",
   "name": "python3"
  },
  "language_info": {
   "name": "python",
   "version": "3.10.2"
  },
  "orig_nbformat": 4,
  "vscode": {
   "interpreter": {
    "hash": "aee8b7b246df8f9039afb4144a1f6fd8d2ca17a180786b69acc140d282b71a49"
   }
  }
 },
 "nbformat": 4,
 "nbformat_minor": 2
}
